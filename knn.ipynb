{
 "cells": [
  {
   "cell_type": "code",
   "execution_count": 98,
   "id": "dfd0fc0a",
   "metadata": {},
   "outputs": [
    {
     "name": "stdout",
     "output_type": "stream",
     "text": [
      "    ID  Gender  Age  Salary  Purchased?\n",
      "0    1    Male   18   10000           0\n",
      "1    2    Male   25   15000           0\n",
      "2    3  Female   23    5000           0\n",
      "3    4    Male   55   60000           1\n",
      "4    5    Male   45   50000           0\n",
      "5    6  Female   33   30000           0\n",
      "6    7    Male   35   32000           0\n",
      "7    8  Female   19   20000           0\n",
      "8    9  Female   60  100000           1\n",
      "9   10  Female   70  120000           1\n",
      "10  11    Male   18   60000           1\n",
      "11  12  Female   25   50000           0\n",
      "12  13    Male   23   30000           0\n",
      "13  14    Male   55   32000           1\n",
      "14  15  Female   45   20000           0\n",
      "15  16    Male   33  100000           0\n",
      "16  17  Female   35  120000           1\n",
      "17  18  Female   43   30000           0\n",
      "18  19    Male   36   30000           0\n",
      "19  20  Female   39   33000           0\n",
      "[[    18  10000]\n",
      " [    25  15000]\n",
      " [    23   5000]\n",
      " [    55  60000]\n",
      " [    45  50000]\n",
      " [    33  30000]\n",
      " [    35  32000]\n",
      " [    19  20000]\n",
      " [    60 100000]\n",
      " [    70 120000]\n",
      " [    18  60000]\n",
      " [    25  50000]\n",
      " [    23  30000]\n",
      " [    55  32000]\n",
      " [    45  20000]\n",
      " [    33 100000]\n",
      " [    35 120000]\n",
      " [    43  30000]\n",
      " [    36  30000]\n",
      " [    39  33000]]\n",
      "[0 0 0 1 0 0 0 0 1 1 1 0 0 1 0 0 1 0 0 0]\n"
     ]
    },
    {
     "data": {
      "image/png": "[encoded data removed]",
      "text/plain": [
       "<Figure size 432x288 with 1 Axes>"
      ]
     },
     "metadata": {
      "needs_background": "light"
     },
     "output_type": "display_data"
    }
   ],
   "source": [
    "# Importing the libraries\n",
    "import numpy as np\n",
    "import matplotlib.pyplot as plt\n",
    "import pandas as pd\n",
    "import random\n",
    "\n",
    "random.seed(100)\n",
    "# Importing the dataset\n",
    "dataset = pd.read_csv('knn_data.csv')\n",
    "X = dataset.iloc[:, [2, 3]].values\n",
    "y = dataset.iloc[:, -1].values\n",
    "\n",
    "# Showing and plotting data values \n",
    "print(dataset)\n",
    "print(X)\n",
    "print(y)\n",
    "plt.scatter(X[:,0],X[:,1], c=y) # color the points in the scatter plot based on the values in y\n",
    "plt.show()"
   ]
  },
  {
   "cell_type": "code",
   "execution_count": 99,
   "id": "6bb739bd",
   "metadata": {},
   "outputs": [
    {
     "name": "stdout",
     "output_type": "stream",
     "text": [
      "[[    18  60000]\n",
      " [    43  30000]\n",
      " [    35  32000]\n",
      " [    55  32000]\n",
      " [    45  50000]\n",
      " [    23   5000]\n",
      " [    33  30000]\n",
      " [    45  20000]\n",
      " [    70 120000]\n",
      " [    19  20000]\n",
      " [    35 120000]\n",
      " [    25  50000]\n",
      " [    55  60000]\n",
      " [    18  10000]\n",
      " [    33 100000]\n",
      " [    23  30000]]\n",
      "[[    36  30000]\n",
      " [    25  15000]\n",
      " [    39  33000]\n",
      " [    60 100000]]\n"
     ]
    }
   ],
   "source": [
    "# Splitting the dataset into the Training set and Test set\n",
    "from sklearn.model_selection import train_test_split\n",
    "X_train, X_test, y_train, y_test = train_test_split(X, y, test_size = 0.20, random_state = 0)\n",
    "print(X_train)\n",
    "print(X_test)"
   ]
  },
  {
   "cell_type": "code",
   "execution_count": 100,
   "id": "6a0c01de",
   "metadata": {},
   "outputs": [],
   "source": [
    "# Training the K-NN model on the Training set\n",
    "from sklearn.neighbors import KNeighborsClassifier\n",
    "classifier = KNeighborsClassifier(n_neighbors = 5, metric = 'minkowski', p = 2) "
   ]
  },
  {
   "cell_type": "code",
   "execution_count": 101,
   "id": "a54329e6",
   "metadata": {},
   "outputs": [
    {
     "name": "stdout",
     "output_type": "stream",
     "text": [
      "[[    18  60000]\n",
      " [    43  30000]\n",
      " [    35  32000]\n",
      " [    55  32000]\n",
      " [    45  50000]\n",
      " [    23   5000]\n",
      " [    33  30000]\n",
      " [    45  20000]\n",
      " [    70 120000]\n",
      " [    19  20000]\n",
      " [    35 120000]\n",
      " [    25  50000]\n",
      " [    55  60000]\n",
      " [    18  10000]\n",
      " [    33 100000]\n",
      " [    23  30000]]\n",
      "[1 0 0 1 0 0 0 0 1 0 1 0 1 0 0 0]\n"
     ]
    },
    {
     "data": {
      "text/plain": [
       "KNeighborsClassifier()"
      ]
     },
     "execution_count": 101,
     "metadata": {},
     "output_type": "execute_result"
    }
   ],
   "source": [
    "print(X_train)\n",
    "print(y_train)\n",
    "classifier.fit(X_train, y_train)"
   ]
  },
  {
   "cell_type": "code",
   "execution_count": 102,
   "id": "9cf481d6",
   "metadata": {},
   "outputs": [],
   "source": [
    "# Predicting the Test set results\n",
    "y_pred = classifier.predict(X_test)\n",
    "\n",
    "# Making the Confusion Matrix\n",
    "from sklearn.metrics import confusion_matrix, accuracy_score\n",
    "cm = confusion_matrix(y_test, y_pred)\n",
    "ac = accuracy_score(y_test, y_pred)"
   ]
  },
  {
   "cell_type": "code",
   "execution_count": 103,
   "id": "407fa619",
   "metadata": {},
   "outputs": [
    {
     "name": "stdout",
     "output_type": "stream",
     "text": [
      "[[3 0]\n",
      " [0 1]]\n"
     ]
    }
   ],
   "source": [
    "print(cm)"
   ]
  },
  {
   "cell_type": "code",
   "execution_count": 104,
   "id": "1a0c1f1c",
   "metadata": {},
   "outputs": [
    {
     "name": "stdout",
     "output_type": "stream",
     "text": [
      "1.0\n"
     ]
    }
   ],
   "source": [
    "print(ac)"
   ]
  }
 ],
 "metadata": {
  "kernelspec": {
   "display_name": "Python 3 (ipykernel)",
   "language": "python",
   "name": "python3"
  },
  "language_info": {
   "codemirror_mode": {
    "name": "ipython",
    "version": 3
   },
   "file_extension": ".py",
   "mimetype": "text/x-python",
   "name": "python",
   "nbconvert_exporter": "python",
   "pygments_lexer": "ipython3",
   "version": "3.9.12"
  }
 },
 "nbformat": 4,
 "nbformat_minor": 5
}
